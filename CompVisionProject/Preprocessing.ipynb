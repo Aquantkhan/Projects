{
 "cells": [
  {
   "cell_type": "code",
   "execution_count": 1,
   "id": "5d76aaec",
   "metadata": {},
   "outputs": [],
   "source": [
    "import pandas as pd\n",
    "import numpy as np\n",
    "import cv2"
   ]
  },
  {
   "cell_type": "code",
   "execution_count": 2,
   "id": "7dc2ee1c",
   "metadata": {},
   "outputs": [],
   "source": [
    "import os"
   ]
  },
  {
   "cell_type": "code",
   "execution_count": 12,
   "id": "8aad54c4",
   "metadata": {},
   "outputs": [],
   "source": [
    "video_path = \"test_video_data\""
   ]
  },
  {
   "cell_type": "code",
   "execution_count": 13,
   "id": "69fbaec6",
   "metadata": {},
   "outputs": [
    {
     "data": {
      "text/plain": [
       "['69af8f5437b97bf34e62d1d3e24c01f3_raw.mp4',\n",
       " 'a36b3a1d9f49cdfd1d085ceb1c577c7b_raw.mp4',\n",
       " 'c871660284b1e5978d63d919918f7620_raw.mp4',\n",
       " 'VID_20240424_181454.mp4']"
      ]
     },
     "execution_count": 13,
     "metadata": {},
     "output_type": "execute_result"
    }
   ],
   "source": [
    "os.listdir(video_path)"
   ]
  },
  {
   "cell_type": "code",
   "execution_count": 5,
   "id": "49b27768",
   "metadata": {},
   "outputs": [],
   "source": [
    "file = \"1.mp4\"\n",
    "cap = cv2.VideoCapture(os.path.join(video_path,\"1.mp4\"))"
   ]
  },
  {
   "cell_type": "code",
   "execution_count": 15,
   "id": "c74973fc",
   "metadata": {},
   "outputs": [],
   "source": [
    "# parts = [(360, 1200)]"
   ]
  },
  {
   "cell_type": "code",
   "execution_count": 21,
   "id": "6a655e7e",
   "metadata": {},
   "outputs": [],
   "source": [
    "# cut_video_path = \"cut_video_data\"\n",
    "\n",
    "# if os.path.isdir(cut_video_path) is False:\n",
    "#     os.makedirs(cut_video_path)\n",
    "    \n",
    "# for file_name in os.listdir(video_path):\n",
    "#     cap = cv2.VideoCapture(os.path.join(video_path, file_name))\n",
    "#     for start_time, end_time in parts:\n",
    "#         cap.set(cv2.CAP_PROP_POS_MSEC, start_time * 1000)  # Set the start position\n",
    "#         status, frame = cap.read() #returns an individual frame from the capture\n",
    "#         if status:\n",
    "#             output_path = os.path.join(cut_video_path, f\"cut_{file_name}\")\n",
    "#             codec = cv2.VideoWriter_fourcc(*\"XVID\")  # Choose the codec (e.g., XVID)\n",
    "#             out = cv2.VideoWriter(output_path, codec, 24, (frame.shape[1], frame.shape[0])) #keeping original frames and \n",
    "#             while cap.get(cv2.CAP_PROP_POS_MSEC) < end_time * 1000:\n",
    "#                 out.write(frame)\n",
    "#                 status, frame = cap.read()\n",
    "#                 if not success:\n",
    "#                     break\n",
    "#             out.release()"
   ]
  },
  {
   "cell_type": "code",
   "execution_count": 22,
   "id": "034b904c",
   "metadata": {},
   "outputs": [],
   "source": [
    "# cap.release()\n",
    "# cv2.destroyAllWindows()"
   ]
  },
  {
   "cell_type": "code",
   "execution_count": 14,
   "id": "23b53c90",
   "metadata": {},
   "outputs": [],
   "source": [
    "frames_path = \"test_frames\"\n",
    "\n",
    "if os.path.isdir(frames_path) == False:\n",
    "    os.makedirs(frames_path)\n",
    "counter = 0\n",
    "\n",
    "if(len(os.listdir(frames_path)) <= 0):\n",
    "    \n",
    "    for file_name in os.listdir(video_path):\n",
    "        \n",
    "        cap = cv2.VideoCapture(os.path.join(video_path, file_name))\n",
    "        status, frame = cap.read()\n",
    "        while status == True:\n",
    "            if(counter % 120 == 0): #every tenth frame is separated for\n",
    "                output_frame = os.path.join(frames_path, str(counter)+\".jpg\")\n",
    "                cv2.imwrite(output_frame, frame)\n",
    "                status, frame = cap.read()\n",
    "            counter+=1\n",
    "                \n",
    "        cap.release()\n",
    "        cv2.destroyAllWindows()"
   ]
  },
  {
   "cell_type": "code",
   "execution_count": 5,
   "id": "bdb94cdf",
   "metadata": {},
   "outputs": [],
   "source": [
    "#delete the same images\n",
    "#extract lines from the images\n",
    "#stitch the images together to prepare the pipeline"
   ]
  },
  {
   "cell_type": "code",
   "execution_count": 15,
   "id": "c3c41fa8",
   "metadata": {},
   "outputs": [
    {
     "name": "stdout",
     "output_type": "stream",
     "text": [
      "The number of images before cleaning:  10465.008333333333\n",
      "The number of images after cleaning:  102\n"
     ]
    }
   ],
   "source": [
    "#delete similar images from the dataset\n",
    "import hashlib\n",
    "from PIL import Image\n",
    "import imagehash\n",
    "\n",
    "def get_image_hash(image_path):\n",
    "    with Image.open(image_path) as f:\n",
    "        image_hash = imagehash.dhash(f, hash_size=3)\n",
    "    return image_hash\n",
    "\n",
    "unique_frames = {}\n",
    "for frame in os.listdir(frames_path):\n",
    "    image_hash = get_image_hash(os.path.join(frames_path, frame))\n",
    "    if unique_frames.get(image_hash) is None:\n",
    "        unique_frames[image_hash] = True\n",
    "    else:\n",
    "        os.remove(os.path.join(frames_path, frame))\n",
    "print(\"The number of images before cleaning: \", counter/120)\n",
    "print(\"The number of images after cleaning: \", len(unique_frames.values()))"
   ]
  },
  {
   "cell_type": "code",
   "execution_count": 6,
   "id": "69d02545",
   "metadata": {},
   "outputs": [],
   "source": []
  },
  {
   "cell_type": "code",
   "execution_count": 68,
   "id": "d6e610cf",
   "metadata": {},
   "outputs": [],
   "source": [
    "import random\n",
    "import shutil\n",
    "\n",
    "train_folder = os.path.join(final_dataset, 'train')\n",
    "val_folder = os.path.join(final_dataset, 'val')\n",
    "test_folder = os.path.join(final_dataset, 'test')\n",
    "\n",
    "imgs_list = os.listdir(final_dataset)\n",
    "random.seed(42)\n",
    "\n",
    "random.shuffle(imgs_list)\n",
    "\n",
    "train_size = int(len(imgs_list) * 0.7)\n",
    "val_size = int(len(imgs_list) * 0.15)\n",
    "test_size = int(len(imgs_list) * 0.15)\n",
    "\n",
    "for folder_path in [train_folder, val_folder, test_folder]:\n",
    "    if not os.path.exists(folder_path):\n",
    "        os.makedirs(folder_path)\n",
    "\n",
    "for i, f in enumerate(imgs_list):\n",
    "    if i < train_size:\n",
    "        dest_folder = train_folder\n",
    "    elif i < train_size + test_size:\n",
    "        dest_folder = val_folder\n",
    "    else:\n",
    "        dest_folder = test_folder\n",
    "    shutil.copy(os.path.join(final_dataset, f), os.path.join(dest_folder, f))"
   ]
  },
  {
   "cell_type": "code",
   "execution_count": 69,
   "id": "dd64dff9",
   "metadata": {},
   "outputs": [],
   "source": [
    "#deleting unneccessary files\n",
    "files_in_dst = os.listdir(final_dataset)"
   ]
  },
  {
   "cell_type": "code",
   "execution_count": 70,
   "id": "c1c617dd",
   "metadata": {},
   "outputs": [],
   "source": [
    "for file in files_in_dst:\n",
    "    if file not in [\"train\", \"test\", \"val\"]:\n",
    "        os.remove(os.path.join(final_dataset, file))"
   ]
  }
 ],
 "metadata": {
  "kernelspec": {
   "display_name": "Python 3 (ipykernel)",
   "language": "python",
   "name": "python3"
  },
  "language_info": {
   "codemirror_mode": {
    "name": "ipython",
    "version": 3
   },
   "file_extension": ".py",
   "mimetype": "text/x-python",
   "name": "python",
   "nbconvert_exporter": "python",
   "pygments_lexer": "ipython3",
   "version": "3.9.13"
  }
 },
 "nbformat": 4,
 "nbformat_minor": 5
}
