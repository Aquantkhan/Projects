{
 "cells": [
  {
   "cell_type": "code",
   "execution_count": 1,
   "id": "d2d6416d",
   "metadata": {},
   "outputs": [],
   "source": [
    "import numpy as np\n",
    "import pandas as pd\n",
    "import sklearn as sk\n",
    "import os\n",
    "import matplotlib.pyplot as plt\n",
    "import matplotlib.image as mpimg"
   ]
  },
  {
   "cell_type": "code",
   "execution_count": 2,
   "id": "743c0287",
   "metadata": {},
   "outputs": [],
   "source": [
    "#collect emojis from the internet\n",
    "#create an .csv file to represent emojis and their classes in unicode\n",
    "#create a function to convert an emoji into a black and white images \n",
    "#display the frequency distribution among the categories\n",
    "#use simple emojis to train the dataset and categories\n",
    "#use the strange emojis to test the dataset\n",
    "#I have deduced to divide emojis into these categories [happy, sad, neutral, sick, love, fear, angry, alien, hand, body, person, action, surprised, family, profession, heart, animal, fruit, building, transport, clock, moon, clothes]"
   ]
  },
  {
   "cell_type": "code",
   "execution_count": 3,
   "id": "51ebade7",
   "metadata": {},
   "outputs": [],
   "source": [
    "root = '.'\n",
    "path = os.path.join(root, 'archive')"
   ]
  },
  {
   "cell_type": "code",
   "execution_count": 4,
   "id": "2317e3d5",
   "metadata": {},
   "outputs": [],
   "source": [
    "df = pd.read_csv(os.path.join(path,'emoji_classified.csv'))"
   ]
  },
  {
   "cell_type": "code",
   "execution_count": 5,
   "id": "8ee4dad6",
   "metadata": {},
   "outputs": [],
   "source": [
    "df = df.drop('#', axis = \"columns\")"
   ]
  },
  {
   "cell_type": "code",
   "execution_count": 6,
   "id": "a8429fa3",
   "metadata": {},
   "outputs": [
    {
     "data": {
      "text/html": [
       "<div>\n",
       "<style scoped>\n",
       "    .dataframe tbody tr th:only-of-type {\n",
       "        vertical-align: middle;\n",
       "    }\n",
       "\n",
       "    .dataframe tbody tr th {\n",
       "        vertical-align: top;\n",
       "    }\n",
       "\n",
       "    .dataframe thead th {\n",
       "        text-align: right;\n",
       "    }\n",
       "</style>\n",
       "<table border=\"1\" class=\"dataframe\">\n",
       "  <thead>\n",
       "    <tr style=\"text-align: right;\">\n",
       "      <th></th>\n",
       "      <th>emoji</th>\n",
       "      <th>unicode</th>\n",
       "      <th>name</th>\n",
       "    </tr>\n",
       "  </thead>\n",
       "  <tbody>\n",
       "    <tr>\n",
       "      <th>0</th>\n",
       "      <td>😀</td>\n",
       "      <td>U+1F600</td>\n",
       "      <td>happy</td>\n",
       "    </tr>\n",
       "    <tr>\n",
       "      <th>1</th>\n",
       "      <td>😃</td>\n",
       "      <td>U+1F603</td>\n",
       "      <td>happy</td>\n",
       "    </tr>\n",
       "    <tr>\n",
       "      <th>2</th>\n",
       "      <td>😄</td>\n",
       "      <td>U+1F604</td>\n",
       "      <td>happy</td>\n",
       "    </tr>\n",
       "    <tr>\n",
       "      <th>3</th>\n",
       "      <td>😁</td>\n",
       "      <td>U+1F601</td>\n",
       "      <td>happy</td>\n",
       "    </tr>\n",
       "    <tr>\n",
       "      <th>4</th>\n",
       "      <td>😆</td>\n",
       "      <td>U+1F606</td>\n",
       "      <td>happy</td>\n",
       "    </tr>\n",
       "    <tr>\n",
       "      <th>...</th>\n",
       "      <td>...</td>\n",
       "      <td>...</td>\n",
       "      <td>...</td>\n",
       "    </tr>\n",
       "    <tr>\n",
       "      <th>946</th>\n",
       "      <td>🌘</td>\n",
       "      <td>U+1F318</td>\n",
       "      <td>moon</td>\n",
       "    </tr>\n",
       "    <tr>\n",
       "      <th>947</th>\n",
       "      <td>🌙</td>\n",
       "      <td>U+1F319</td>\n",
       "      <td>moon</td>\n",
       "    </tr>\n",
       "    <tr>\n",
       "      <th>948</th>\n",
       "      <td>🌚</td>\n",
       "      <td>U+1F31A</td>\n",
       "      <td>moon</td>\n",
       "    </tr>\n",
       "    <tr>\n",
       "      <th>949</th>\n",
       "      <td>🌛</td>\n",
       "      <td>U+1F31B</td>\n",
       "      <td>moon</td>\n",
       "    </tr>\n",
       "    <tr>\n",
       "      <th>950</th>\n",
       "      <td>🌜</td>\n",
       "      <td>U+1F31C</td>\n",
       "      <td>moon</td>\n",
       "    </tr>\n",
       "  </tbody>\n",
       "</table>\n",
       "<p>951 rows × 3 columns</p>\n",
       "</div>"
      ],
      "text/plain": [
       "    emoji  unicode   name\n",
       "0       😀  U+1F600  happy\n",
       "1       😃  U+1F603  happy\n",
       "2       😄  U+1F604  happy\n",
       "3       😁  U+1F601  happy\n",
       "4       😆  U+1F606  happy\n",
       "..    ...      ...    ...\n",
       "946     🌘  U+1F318   moon\n",
       "947     🌙  U+1F319   moon\n",
       "948     🌚  U+1F31A   moon\n",
       "949     🌛  U+1F31B   moon\n",
       "950     🌜  U+1F31C   moon\n",
       "\n",
       "[951 rows x 3 columns]"
      ]
     },
     "execution_count": 6,
     "metadata": {},
     "output_type": "execute_result"
    }
   ],
   "source": [
    "df #how to drop the emoji names with several unicode representations? Create a function to clean the emoji "
   ]
  },
  {
   "cell_type": "code",
   "execution_count": 7,
   "id": "4490acc9",
   "metadata": {},
   "outputs": [],
   "source": [
    "def clean_unicode_column(word):\n",
    "    return word.split()[0]"
   ]
  },
  {
   "cell_type": "code",
   "execution_count": 8,
   "id": "da6c56c9",
   "metadata": {},
   "outputs": [],
   "source": [
    "df[\"unicode\"] = df[\"unicode\"].apply(clean_unicode_column)"
   ]
  },
  {
   "cell_type": "code",
   "execution_count": 9,
   "id": "1b1de7bf",
   "metadata": {},
   "outputs": [],
   "source": [
    "for i in range(len(df.unicode)):\n",
    "    word = df.unicode[i]\n",
    "    word = word.replace(\"+\",\"000\")\n",
    "    df.unicode[i] = word"
   ]
  },
  {
   "cell_type": "code",
   "execution_count": 10,
   "id": "fda09b2d",
   "metadata": {},
   "outputs": [],
   "source": [
    "from PIL import Image, ImageFont, ImageDraw"
   ]
  },
  {
   "cell_type": "code",
   "execution_count": 11,
   "id": "ad4527a3",
   "metadata": {},
   "outputs": [],
   "source": [
    "def emoji_unicode_to_image(emoji):\n",
    "    size  = 64\n",
    "    image = Image.new(\"L\", (64,64), (255))\n",
    "    font = ImageFont.truetype(\"Noto_Emoji/NotoEmoji-VariableFont_wght.ttf\", int(size * 0.9), encoding='unic')\n",
    "    draw = ImageDraw.Draw(image)\n",
    "    draw.textbbox(xy=[0,0], text=emoji, font=font)\n",
    "    draw.text((0, 0), emoji, fill=(0), font=font)\n",
    "    return image\n",
    "#     plt.imshow(image, cmap = 'gray')\n",
    "#     plt.show()"
   ]
  },
  {
   "cell_type": "code",
   "execution_count": 12,
   "id": "b1e9c4e6",
   "metadata": {},
   "outputs": [
    {
     "data": {
      "image/png": "[encoded data removed]",
      "text/plain": [
       "<PIL.Image.Image image mode=L size=64x64>"
      ]
     },
     "execution_count": 12,
     "metadata": {},
     "output_type": "execute_result"
    }
   ],
   "source": [
    "emoji_unicode_to_image(df.emoji[950])\n",
    "# Display the image\n",
    "# plt.imshow(img)\n",
    "# plt.show()\n"
   ]
  },
  {
   "cell_type": "code",
   "execution_count": 13,
   "id": "84d5f364",
   "metadata": {},
   "outputs": [
    {
     "data": {
      "text/plain": [
       "<Axes: xlabel='name'>"
      ]
     },
     "execution_count": 13,
     "metadata": {},
     "output_type": "execute_result"
    },
    {
     "data": {
      "image/png": "[encoded data removed]",
      "text/plain": [
       "<Figure size 640x480 with 1 Axes>"
      ]
     },
     "metadata": {},
     "output_type": "display_data"
    }
   ],
   "source": [
    "df[\"name\"].value_counts().plot(kind = \"bar\") #does not look good so decided to try seaborn"
   ]
  },
  {
   "cell_type": "code",
   "execution_count": 14,
   "id": "5eccf9b4",
   "metadata": {},
   "outputs": [],
   "source": [
    "import seaborn as sns "
   ]
  },
  {
   "cell_type": "code",
   "execution_count": 15,
   "id": "30c3951d",
   "metadata": {},
   "outputs": [
    {
     "name": "stderr",
     "output_type": "stream",
     "text": [
      "C:\\Programs\\lib\\site-packages\\seaborn\\axisgrid.py:88: UserWarning: The figure layout has changed to tight\n",
      "  self._figure.tight_layout(*args, **kwargs)\n"
     ]
    },
    {
     "data": {
      "text/plain": [
       "<seaborn.axisgrid.FacetGrid at 0x17f796198b0>"
      ]
     },
     "execution_count": 15,
     "metadata": {},
     "output_type": "execute_result"
    },
    {
     "data": {
      "image/png": "[encoded data removed]",
      "text/plain": [
       "<Figure size 2000x400 with 1 Axes>"
      ]
     },
     "metadata": {},
     "output_type": "display_data"
    }
   ],
   "source": [
    "sns.catplot(data=df, kind = 'count', x='name', height = 4, aspect = 5)"
   ]
  },
  {
   "cell_type": "code",
   "execution_count": 16,
   "id": "1a6c769a",
   "metadata": {},
   "outputs": [
    {
     "data": {
      "text/plain": [
       "31"
      ]
     },
     "execution_count": 16,
     "metadata": {},
     "output_type": "execute_result"
    }
   ],
   "source": [
    "len(df.name.value_counts()) #32 different categories"
   ]
  },
  {
   "cell_type": "code",
   "execution_count": 17,
   "id": "fe4644e9",
   "metadata": {},
   "outputs": [],
   "source": [
    "#generate a dataframe with the picture images from the emoji. Images to classes pairings"
   ]
  },
  {
   "cell_type": "code",
   "execution_count": 18,
   "id": "4ca134f9",
   "metadata": {},
   "outputs": [],
   "source": [
    "df_new = pd.DataFrame(columns = ['picture', 'name'])"
   ]
  },
  {
   "cell_type": "code",
   "execution_count": 19,
   "id": "aadbeb54",
   "metadata": {},
   "outputs": [],
   "source": [
    "X = []\n",
    "y = []"
   ]
  },
  {
   "cell_type": "code",
   "execution_count": 20,
   "id": "bf53fe22",
   "metadata": {},
   "outputs": [],
   "source": [
    "for i in range(len(df[\"emoji\"])):\n",
    "    img = emoji_unicode_to_image(df[\"emoji\"][i])\n",
    "    name = df[\"name\"][i]\n",
    "    img_array = np.array(img).flatten()\n",
    "    X.append(img_array)\n",
    "    y.append(name)"
   ]
  },
  {
   "cell_type": "code",
   "execution_count": 21,
   "id": "7c9a9b11",
   "metadata": {},
   "outputs": [],
   "source": [
    "X = np.array(X)\n",
    "y = np.array(y)"
   ]
  },
  {
   "cell_type": "code",
   "execution_count": 22,
   "id": "061f4b98",
   "metadata": {},
   "outputs": [],
   "source": [
    "temp_image_array = np.reshape(X[0], (-1, 64)) #to check if images are ok, no error has been done"
   ]
  },
  {
   "cell_type": "code",
   "execution_count": 23,
   "id": "185904f3",
   "metadata": {},
   "outputs": [
    {
     "data": {
      "image/png": "[encoded data removed]",
      "text/plain": [
       "<PIL.Image.Image image mode=L size=64x64>"
      ]
     },
     "metadata": {},
     "output_type": "display_data"
    }
   ],
   "source": [
    "display(Image.fromarray(temp_image_array))"
   ]
  },
  {
   "cell_type": "code",
   "execution_count": 24,
   "id": "c3304129",
   "metadata": {},
   "outputs": [],
   "source": [
    "from skimage.io import imread\n",
    "from skimage.transform import resize\n",
    "from skimage.feature import hog\n",
    "from skimage import exposure"
   ]
  },
  {
   "cell_type": "code",
   "execution_count": 25,
   "id": "933e1589",
   "metadata": {},
   "outputs": [
    {
     "name": "stderr",
     "output_type": "stream",
     "text": [
      "C:\\Users\\Alibek\\AppData\\Local\\Temp\\ipykernel_43340\\1822040677.py:2: FutureWarning: `multichannel` is a deprecated argument name for `hog`. It will be removed in version 1.0. Please use `channel_axis` instead.\n",
      "  fd, hog_image = hog(temp_image, orientations=9, pixels_per_cell=(8, 8), cells_per_block=(2, 2), visualize=True, multichannel=False)\n"
     ]
    },
    {
     "data": {
      "text/plain": [
       "<matplotlib.image.AxesImage at 0x17f7a16e610>"
      ]
     },
     "execution_count": 25,
     "metadata": {},
     "output_type": "execute_result"
    },
    {
     "data": {
      "image/png": "[encoded data removed]",
      "text/plain": [
       "<Figure size 640x480 with 1 Axes>"
      ]
     },
     "metadata": {},
     "output_type": "display_data"
    }
   ],
   "source": [
    "temp_image = Image.fromarray(temp_image_array)\n",
    "fd, hog_image = hog(temp_image, orientations=9, pixels_per_cell=(8, 8), cells_per_block=(2, 2), visualize=True, multichannel=False)\n",
    "plt.axis(\"off\")\n",
    "plt.imshow(hog_image, cmap=\"gray\")"
   ]
  },
  {
   "cell_type": "code",
   "execution_count": 26,
   "id": "7be85592",
   "metadata": {},
   "outputs": [
    {
     "name": "stderr",
     "output_type": "stream",
     "text": [
      "C:\\Users\\Alibek\\AppData\\Local\\Temp\\ipykernel_43340\\3942123429.py:1: FutureWarning: `multichannel` is a deprecated argument name for `hog`. It will be removed in version 1.0. Please use `channel_axis` instead.\n",
      "  fd, hog_image = hog(temp_image, orientations=9, pixels_per_cell=(2, 2), cells_per_block=(2, 2), visualize=True, multichannel=False)\n"
     ]
    },
    {
     "data": {
      "text/plain": [
       "<matplotlib.image.AxesImage at 0x17f7a1b4fa0>"
      ]
     },
     "execution_count": 26,
     "metadata": {},
     "output_type": "execute_result"
    },
    {
     "data": {
      "image/png": "[encoded data removed]",
      "text/plain": [
       "<Figure size 640x480 with 1 Axes>"
      ]
     },
     "metadata": {},
     "output_type": "display_data"
    }
   ],
   "source": [
    "fd, hog_image = hog(temp_image, orientations=9, pixels_per_cell=(2, 2), cells_per_block=(2, 2), visualize=True, multichannel=False)\n",
    "plt.axis(\"off\")\n",
    "plt.imshow(hog_image, cmap=\"gray\")#data does not have a lot of noise, so the cell size it set to be 2x2, otherwise it would be too rough"
   ]
  },
  {
   "cell_type": "code",
   "execution_count": 27,
   "id": "3b9e0931",
   "metadata": {},
   "outputs": [
    {
     "name": "stderr",
     "output_type": "stream",
     "text": [
      "C:\\Users\\Alibek\\AppData\\Local\\Temp\\ipykernel_43340\\3298318594.py:4: FutureWarning: `multichannel` is a deprecated argument name for `hog`. It will be removed in version 1.0. Please use `channel_axis` instead.\n",
      "  fd, hog_image = hog(img, orientations=9, pixels_per_cell=(2, 2), cells_per_block=(2, 2), visualize=True, multichannel=False)\n"
     ]
    }
   ],
   "source": [
    "X_new = []\n",
    "for img_array in X:\n",
    "    img = np.reshape(img_array, (-1,64))\n",
    "    fd, hog_image = hog(img, orientations=9, pixels_per_cell=(2, 2), cells_per_block=(2, 2), visualize=True, multichannel=False)\n",
    "    X_new.append(fd)"
   ]
  },
  {
   "cell_type": "code",
   "execution_count": 28,
   "id": "bc03ac3f",
   "metadata": {},
   "outputs": [],
   "source": [
    "X_new = np.array(X_new)"
   ]
  },
  {
   "cell_type": "code",
   "execution_count": 29,
   "id": "bd98e255",
   "metadata": {},
   "outputs": [],
   "source": [
    "from sklearn.model_selection import cross_val_score #to compare two models - kNN classifier and SVM.\n",
    "from sklearn.model_selection import KFold \n",
    "from sklearn.svm import SVC\n",
    "from sklearn.neighbors import KNeighborsClassifier\n",
    "from sklearn.ensemble import RandomForestClassifier"
   ]
  },
  {
   "cell_type": "code",
   "execution_count": 30,
   "id": "5bd4375f",
   "metadata": {},
   "outputs": [],
   "source": [
    "#using validation choose the best model \n",
    "#using the grid search choose the best hyperparameters"
   ]
  },
  {
   "cell_type": "code",
   "execution_count": null,
   "id": "a0195cd0",
   "metadata": {},
   "outputs": [],
   "source": []
  },
  {
   "cell_type": "code",
   "execution_count": 31,
   "id": "5f7d884d",
   "metadata": {},
   "outputs": [],
   "source": [
    "from sklearn.model_selection import train_test_split\n",
    "from sklearn.metrics import accuracy_score\n",
    "X_train, X_val, y_train, y_val = train_test_split(X_new, y, test_size=0.2, random_state=42)"
   ]
  },
  {
   "cell_type": "code",
   "execution_count": 345,
   "id": "b7f06d73",
   "metadata": {},
   "outputs": [
    {
     "name": "stdout",
     "output_type": "stream",
     "text": [
      "Accuracy: 10.47%\n"
     ]
    }
   ],
   "source": [
    "# svm = SVC(kernel='linear')\n",
    "# svm.fit(X_train, y_train)\n",
    "\n",
    "# # predict on the validation set.\n",
    "# y_pred = svm.predict(X_val)\n",
    "\n",
    "# # calculate accuracy.\n",
    "# accuracy = accuracy_score(y_val, y_pred)\n",
    "# print(f'Accuracy: {accuracy * 100:.2f}%') #very bad accuracy"
   ]
  },
  {
   "cell_type": "code",
   "execution_count": 32,
   "id": "ddf8adb9",
   "metadata": {},
   "outputs": [
    {
     "name": "stdout",
     "output_type": "stream",
     "text": [
      "56.04188481675394\n"
     ]
    }
   ],
   "source": [
    "cv = KFold(n_splits=5, random_state=1, shuffle=True)\n",
    "\n",
    "svc = SVC(kernel=\"linear\")\n",
    "\n",
    "#use k-fold CV to evaluate model\n",
    "scores_svc = cross_val_score(svc, X_new, y, scoring='accuracy',\n",
    "                         cv=cv, n_jobs=-1)\n",
    "\n",
    "#view mean absolute error\n",
    "print(np.mean(np.abs(scores_svc)) * 100)"
   ]
  },
  {
   "cell_type": "code",
   "execution_count": 33,
   "id": "e1b0ae3c",
   "metadata": {},
   "outputs": [
    {
     "name": "stdout",
     "output_type": "stream",
     "text": [
      "29.760815651694685\n"
     ]
    }
   ],
   "source": [
    "knn = KNeighborsClassifier()\n",
    "scores_knn = cross_val_score(knn, X_new, y, scoring='accuracy',\n",
    "                         cv=cv, n_jobs=-1)\n",
    "print(np.mean(np.abs(scores_knn)) * 100)"
   ]
  },
  {
   "cell_type": "code",
   "execution_count": 35,
   "id": "8705c80d",
   "metadata": {},
   "outputs": [
    {
     "name": "stdout",
     "output_type": "stream",
     "text": [
      "49.42077707357399\n"
     ]
    }
   ],
   "source": [
    "rf = RandomForestClassifier()\n",
    "scores_rf = cross_val_score(rf, X, y, scoring='accuracy',\n",
    "                         cv=cv, n_jobs=-1)\n",
    "print(np.mean(np.abs(scores_rf)) * 100)"
   ]
  },
  {
   "cell_type": "code",
   "execution_count": 36,
   "id": "8f7018d0",
   "metadata": {},
   "outputs": [
    {
     "name": "stdout",
     "output_type": "stream",
     "text": [
      "48.26398456875172\n"
     ]
    }
   ],
   "source": [
    "svc_img = SVC(kernel=\"linear\")\n",
    "\n",
    "#use k-fold CV to evaluate model\n",
    "scores_svc_img = cross_val_score(svc_img, X, y, scoring='accuracy',\n",
    "                         cv=cv, n_jobs=-1)\n",
    "\n",
    "#view mean absolute error\n",
    "print(np.mean(np.abs(scores_svc_img)) * 100)"
   ]
  },
  {
   "cell_type": "code",
   "execution_count": 37,
   "id": "9d7432e4",
   "metadata": {},
   "outputs": [
    {
     "name": "stdout",
     "output_type": "stream",
     "text": [
      "35.010195646183526\n"
     ]
    }
   ],
   "source": [
    "knn_img = KNeighborsClassifier()\n",
    "scores_knn_img = cross_val_score(knn_img, X, y, scoring='accuracy',\n",
    "                         cv=cv, n_jobs=-1)\n",
    "print(np.mean(np.abs(scores_knn_img)) * 100)"
   ]
  },
  {
   "cell_type": "code",
   "execution_count": 38,
   "id": "8e0dca3c",
   "metadata": {},
   "outputs": [
    {
     "name": "stdout",
     "output_type": "stream",
     "text": [
      "53.68421052631579\n"
     ]
    }
   ],
   "source": [
    "svc = SVC(kernel=\"linear\")\n",
    "\n",
    "#use k-fold CV to evaluate model\n",
    "scores_svc = cross_val_score(svc, X_train, y_train, scoring='accuracy',\n",
    "                         cv=cv, n_jobs=-1)\n",
    "\n",
    "#view mean absolute error\n",
    "print(np.mean(np.abs(scores_svc)) * 100) #better of all to choose the SVC"
   ]
  },
  {
   "cell_type": "code",
   "execution_count": 39,
   "id": "6aef5e5e",
   "metadata": {},
   "outputs": [
    {
     "data": {
      "text/plain": [
       "SVC(kernel='linear')"
      ]
     },
     "execution_count": 39,
     "metadata": {},
     "output_type": "execute_result"
    }
   ],
   "source": [
    "svc.fit(X_train, y_train)"
   ]
  },
  {
   "cell_type": "code",
   "execution_count": 40,
   "id": "22eb5d58",
   "metadata": {},
   "outputs": [
    {
     "name": "stdout",
     "output_type": "stream",
     "text": [
      "Accuracy: 56.54%\n"
     ]
    }
   ],
   "source": [
    "y_hat = svc.predict(X_val)\n",
    "accuracy = accuracy_score(y_val, y_hat)\n",
    "print(f'Accuracy: {accuracy * 100:.2f}%')"
   ]
  },
  {
   "cell_type": "code",
   "execution_count": 370,
   "id": "a0b325ef",
   "metadata": {},
   "outputs": [],
   "source": [
    "#get the unseen emojis from the emoji kitchen and try them out\n",
    "#get the facial expression and test them out\n",
    "#write the report"
   ]
  },
  {
   "cell_type": "code",
   "execution_count": 41,
   "id": "d3298bfb",
   "metadata": {},
   "outputs": [
    {
     "data": {
      "text/plain": [
       "['.ipynb_checkpoints',\n",
       " 'alien.jpg',\n",
       " 'angry.jpg',\n",
       " 'animal.jpg',\n",
       " 'building.jpg',\n",
       " 'fruit.jpg',\n",
       " 'happy.jpg',\n",
       " 'insect.jpg',\n",
       " 'love.jpg',\n",
       " 'sad.jpg',\n",
       " 'surprised.jpg']"
      ]
     },
     "execution_count": 41,
     "metadata": {},
     "output_type": "execute_result"
    }
   ],
   "source": [
    "filenames = os.listdir(\"archive/emoji_kitchen\")\n",
    "filenames"
   ]
  },
  {
   "cell_type": "code",
   "execution_count": 48,
   "id": "d7aa2f9a",
   "metadata": {},
   "outputs": [],
   "source": [
    "emoji_kitchen_images = []\n",
    "for filename in filenames[1:]:\n",
    "    img = Image.open(os.path.join(\"archive/emoji_kitchen\", filename)).convert(\"L\")\n",
    "    img = img.resize((64,64))\n",
    "    emoji_kitchen_images.append(img)"
   ]
  },
  {
   "cell_type": "code",
   "execution_count": 49,
   "id": "78f6b145",
   "metadata": {},
   "outputs": [],
   "source": [
    "y_emoji = []\n",
    "for filename in filenames:\n",
    "    label = filename.replace(\".jpg\", \"\")\n",
    "    y_emoji.append(label)"
   ]
  },
  {
   "cell_type": "code",
   "execution_count": 50,
   "id": "55da5062",
   "metadata": {},
   "outputs": [],
   "source": []
  },
  {
   "cell_type": "code",
   "execution_count": 51,
   "id": "ce6895ac",
   "metadata": {},
   "outputs": [],
   "source": []
  },
  {
   "cell_type": "code",
   "execution_count": 56,
   "id": "cf5c3b54",
   "metadata": {},
   "outputs": [],
   "source": [
    "y_emoji = y_emoji[1:]"
   ]
  },
  {
   "cell_type": "code",
   "execution_count": 77,
   "id": "e9e4a383",
   "metadata": {},
   "outputs": [
    {
     "name": "stderr",
     "output_type": "stream",
     "text": [
      "C:\\Users\\Alibek\\AppData\\Local\\Temp\\ipykernel_43340\\2408898317.py:3: FutureWarning: `multichannel` is a deprecated argument name for `hog`. It will be removed in version 1.0. Please use `channel_axis` instead.\n",
      "  fd, hog_image = hog(img, orientations=9, pixels_per_cell=(2, 2), cells_per_block=(2, 2), visualize=True, multichannel=False)\n"
     ]
    }
   ],
   "source": [
    "X_emoji_kitchen_hog = []\n",
    "for img in emoji_kitchen_images:\n",
    "    fd, hog_image = hog(img, orientations=9, pixels_per_cell=(2, 2), cells_per_block=(2, 2), visualize=True, multichannel=False)\n",
    "    X_emoji_kitchen_hog.append(fd)"
   ]
  },
  {
   "cell_type": "code",
   "execution_count": 78,
   "id": "96394fac",
   "metadata": {},
   "outputs": [],
   "source": [
    "emoji_kitchen_pred = svc.predict(X_emoji_kitchen_hog)"
   ]
  },
  {
   "cell_type": "code",
   "execution_count": 79,
   "id": "fcda2179",
   "metadata": {},
   "outputs": [
    {
     "name": "stdout",
     "output_type": "stream",
     "text": [
      "Accuracy: 20.00%\n"
     ]
    }
   ],
   "source": [
    "accuracy = accuracy_score(emoji_kitchen_pred, y_emoji)\n",
    "print(f'Accuracy: {accuracy * 100:.2f}%')"
   ]
  },
  {
   "cell_type": "code",
   "execution_count": 80,
   "id": "190a3066",
   "metadata": {},
   "outputs": [
    {
     "data": {
      "text/plain": [
       "array(['animal', 'food', 'animal', 'building', 'food', 'food', 'food',\n",
       "       'food', 'animal', 'animal'], dtype='<U10')"
      ]
     },
     "execution_count": 80,
     "metadata": {},
     "output_type": "execute_result"
    }
   ],
   "source": [
    "emoji_kitchen_pred #animal category is super extra-represented, therefore it favours that category. "
   ]
  },
  {
   "cell_type": "code",
   "execution_count": 62,
   "id": "914b5adc",
   "metadata": {},
   "outputs": [
    {
     "data": {
      "text/plain": [
       "['angry.jpg',\n",
       " 'fear.jpg',\n",
       " 'happy.jpg',\n",
       " 'neutral.jpg',\n",
       " 'sad.jpg',\n",
       " 'surprised.jpg']"
      ]
     },
     "execution_count": 62,
     "metadata": {},
     "output_type": "execute_result"
    }
   ],
   "source": [
    "filenames_facial_expression = os.listdir(\"archive/facial_expression\")\n",
    "filenames_facial_expression"
   ]
  },
  {
   "cell_type": "code",
   "execution_count": 65,
   "id": "7855604a",
   "metadata": {},
   "outputs": [],
   "source": [
    "facial_expression_images = []\n",
    "y_fe = []\n",
    "for filename in filenames_facial_expression:\n",
    "    img = Image.open(os.path.join(\"archive/facial_expression\", filename)).convert(\"L\")\n",
    "    img = img.resize((64,64))\n",
    "    facial_expression_images.append(img)\n",
    "    label = filename.replace(\".jpg\", \"\")\n",
    "    y_fe.append(label)"
   ]
  },
  {
   "cell_type": "code",
   "execution_count": 82,
   "id": "e5a96ee0",
   "metadata": {},
   "outputs": [
    {
     "name": "stderr",
     "output_type": "stream",
     "text": [
      "C:\\Users\\Alibek\\AppData\\Local\\Temp\\ipykernel_43340\\1954494409.py:3: FutureWarning: `multichannel` is a deprecated argument name for `hog`. It will be removed in version 1.0. Please use `channel_axis` instead.\n",
      "  fd, hog_image = hog(img, orientations=9, pixels_per_cell=(2, 2), cells_per_block=(2, 2), visualize=True, multichannel=False)\n"
     ]
    },
    {
     "data": {
      "image/png": "[encoded data removed]",
      "text/plain": [
       "<Figure size 640x480 with 1 Axes>"
      ]
     },
     "metadata": {},
     "output_type": "display_data"
    }
   ],
   "source": [
    "X_fe = []\n",
    "for img in facial_expression_images:\n",
    "    fd, hog_image = hog(img, orientations=9, pixels_per_cell=(2, 2), cells_per_block=(2, 2), visualize=True, multichannel=False)\n",
    "    plt.axis(\"off\")\n",
    "    plt.imshow(hog_image, cmap=\"gray\")\n",
    "    X_fe.append(fd)"
   ]
  },
  {
   "cell_type": "code",
   "execution_count": 74,
   "id": "eef5a133",
   "metadata": {},
   "outputs": [
    {
     "name": "stdout",
     "output_type": "stream",
     "text": [
      "Accuracy: 0.00%\n"
     ]
    }
   ],
   "source": [
    "y_fe_pred = svc.predict(X_fe) #predictions\n",
    "accuracy = accuracy_score(y_fe_pred, y_fe)\n",
    "print(f'Accuracy: {accuracy * 100:.2f}%')"
   ]
  },
  {
   "cell_type": "code",
   "execution_count": 76,
   "id": "46b95554",
   "metadata": {},
   "outputs": [
    {
     "data": {
      "text/plain": [
       "array(['animal', 'animal', 'animal', 'animal', 'animal', 'animal'],\n",
       "      dtype='<U10')"
      ]
     },
     "execution_count": 76,
     "metadata": {},
     "output_type": "execute_result"
    }
   ],
   "source": [
    "y_fe_pred"
   ]
  },
  {
   "cell_type": "code",
   "execution_count": 92,
   "id": "8364ffe5",
   "metadata": {},
   "outputs": [
    {
     "name": "stderr",
     "output_type": "stream",
     "text": [
      "C:\\Users\\Alibek\\AppData\\Local\\Temp\\ipykernel_43340\\3032839411.py:1: FutureWarning: `multichannel` is a deprecated argument name for `hog`. It will be removed in version 1.0. Please use `channel_axis` instead.\n",
      "  fd, hog_image = hog(facial_expression_images[3], orientations=8, pixels_per_cell=(2, 2), cells_per_block=(2, 2), visualize=True, multichannel=False)\n"
     ]
    },
    {
     "data": {
      "text/plain": [
       "<matplotlib.image.AxesImage at 0x17f2f48c8e0>"
      ]
     },
     "execution_count": 92,
     "metadata": {},
     "output_type": "execute_result"
    },
    {
     "data": {
      "image/png": "[encoded data removed]",
      "text/plain": [
       "<Figure size 640x480 with 1 Axes>"
      ]
     },
     "metadata": {},
     "output_type": "display_data"
    }
   ],
   "source": [
    "fd, hog_image = hog(facial_expression_images[3], orientations=8, pixels_per_cell=(2, 2), cells_per_block=(2, 2), visualize=True, multichannel=False)\n",
    "plt.axis(\"off\")\n",
    "plt.imshow(hog_image, cmap=\"gray\") #images are too low quality to be effectively feauture extracted with HOG, therefore the accuracy is really low"
   ]
  },
  {
   "cell_type": "code",
   "execution_count": 97,
   "id": "d52d0cb7",
   "metadata": {},
   "outputs": [
    {
     "name": "stdout",
     "output_type": "stream",
     "text": [
      "51.94599063102784\n"
     ]
    }
   ],
   "source": [
    "rf_img = RandomForestClassifier()\n",
    "scores_rf_img = cross_val_score(rf_img, X_new, y, scoring='accuracy',\n",
    "                         cv=cv, n_jobs=-1)\n",
    "print(np.mean(np.abs(scores_rf_img)) * 100)"
   ]
  },
  {
   "cell_type": "code",
   "execution_count": 106,
   "id": "08701748",
   "metadata": {},
   "outputs": [],
   "source": [
    "total_scores  = {\"knn score hog\": np.mean(scores_knn), \"knn score image\": np.mean(scores_knn_img), \"rf score hog\": np.mean(scores_rf), \"rf score image\": np.mean(scores_rf_img), \"svc score hog\": np.mean(scores_svc), \"svc score img\": np.mean(scores_svc_img)}"
   ]
  },
  {
   "cell_type": "code",
   "execution_count": 107,
   "id": "0fe0623e",
   "metadata": {},
   "outputs": [
    {
     "data": {
      "text/plain": [
       "0.29760815651694683"
      ]
     },
     "execution_count": 107,
     "metadata": {},
     "output_type": "execute_result"
    }
   ],
   "source": [
    "total_scores.get(\"knn score hog\")"
   ]
  },
  {
   "cell_type": "code",
   "execution_count": 126,
   "id": "7646f3c8",
   "metadata": {},
   "outputs": [
    {
     "data": {
      "image/png": "[encoded data removed]",
      "text/plain": [
       "<Figure size 1000x500 with 1 Axes>"
      ]
     },
     "metadata": {},
     "output_type": "display_data"
    }
   ],
   "source": [
    "plt.figure(figsize=(10,5))\n",
    "plt.title(\"Performance of different models on images and HOG features\")\n",
    "plt.tight_layout()\n",
    "plt.plot(list(total_scores.keys()),list(total_scores.values()))\n",
    "plt.show()"
   ]
  },
  {
   "cell_type": "code",
   "execution_count": null,
   "id": "7ffe6ba8",
   "metadata": {},
   "outputs": [],
   "source": []
  }
 ],
 "metadata": {
  "kernelspec": {
   "display_name": "Python 3 (ipykernel)",
   "language": "python",
   "name": "python3"
  },
  "language_info": {
   "codemirror_mode": {
    "name": "ipython",
    "version": 3
   },
   "file_extension": ".py",
   "mimetype": "text/x-python",
   "name": "python",
   "nbconvert_exporter": "python",
   "pygments_lexer": "ipython3",
   "version": "3.9.13"
  }
 },
 "nbformat": 4,
 "nbformat_minor": 5
}
